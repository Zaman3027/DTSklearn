{
 "cells": [
  {
   "cell_type": "code",
   "execution_count": 1,
   "metadata": {
    "collapsed": true
   },
   "outputs": [],
   "source": [
    "# Read data from \n",
    "import pandas as pd\n",
    "binary= pd.read_csv('http://dni-institute.in/blogs/wp-content/uploads/2017/07/dt_data.csv')"
   ]
  },
  {
   "cell_type": "code",
   "execution_count": 2,
   "metadata": {},
   "outputs": [
    {
     "data": {
      "text/plain": [
       "A    73.68\nB    26.32\nName: Spend_Drop_over50pct, dtype: float64"
      ]
     },
     "execution_count": 2,
     "metadata": {},
     "output_type": "execute_result"
    }
   ],
   "source": [
    "# Columns\n",
    "binary.dtypes.index\n",
    "# Drop a column\n",
    "binary.drop('Unnamed: 3', axis=1, inplace=True)\n",
    "# Target Variable to be made {-1, 1}\n",
    "binary.Spend_Drop_over50pct.replace([0, 1], ['A', 'B'], inplace=True)\n",
    "\n",
    "# Print a few rows\n",
    "binary.head()\n",
    "\n",
    "# Count Target Variable Values\n",
    "binary.Spend_Drop_over50pct.value_counts()\n",
    "# Find % Values of Target Variable Levels\n",
    "round(binary.Spend_Drop_over50pct.value_counts()*100/len(binary.axes[0]),2)"
   ]
  },
  {
   "cell_type": "code",
   "execution_count": 9,
   "metadata": {},
   "outputs": [
    {
     "name": "stderr",
     "output_type": "stream",
     "text": [
      "c:\\users\\mahafuz\\appdata\\local\\programs\\python\\python37-32\\lib\\site-packages\\sklearn\\cross_validation.py:41: DeprecationWarning: This module was deprecated in version 0.18 in favor of the model_selection module into which all the refactored classes and functions are moved. Also note that the interface of the new CV iterators are different from that of this module. This module will be removed in 0.20.\n  \"This module will be removed in 0.20.\", DeprecationWarning)\n"
     ]
    },
    {
     "data": {
      "text/html": [
       "<div>\n",
       "<style scoped>\n",
       "    .dataframe tbody tr th:only-of-type {\n",
       "        vertical-align: middle;\n",
       "    }\n",
       "\n",
       "    .dataframe tbody tr th {\n",
       "        vertical-align: top;\n",
       "    }\n",
       "\n",
       "    .dataframe thead th {\n",
       "        text-align: right;\n",
       "    }\n",
       "</style>\n",
       "<table border=\"1\" class=\"dataframe\">\n",
       "  <thead>\n",
       "    <tr style=\"text-align: right;\">\n",
       "      <th></th>\n",
       "      <th>Card_Cust_ID</th>\n",
       "      <th>Gender</th>\n",
       "      <th>Education_level</th>\n",
       "      <th>Last_Month_spend</th>\n",
       "      <th>Last_3m_avg_spend</th>\n",
       "      <th>Spend_Drop_over50pct</th>\n",
       "    </tr>\n",
       "  </thead>\n",
       "  <tbody>\n",
       "    <tr>\n",
       "      <th>34</th>\n",
       "      <td>1000037</td>\n",
       "      <td>M</td>\n",
       "      <td>Graduate</td>\n",
       "      <td>20</td>\n",
       "      <td>30</td>\n",
       "      <td>B</td>\n",
       "    </tr>\n",
       "    <tr>\n",
       "      <th>335</th>\n",
       "      <td>1000361</td>\n",
       "      <td>M</td>\n",
       "      <td>University</td>\n",
       "      <td>790</td>\n",
       "      <td>780</td>\n",
       "      <td>A</td>\n",
       "    </tr>\n",
       "    <tr>\n",
       "      <th>439</th>\n",
       "      <td>1011077</td>\n",
       "      <td>M</td>\n",
       "      <td>High School</td>\n",
       "      <td>1190</td>\n",
       "      <td>1190</td>\n",
       "      <td>A</td>\n",
       "    </tr>\n",
       "    <tr>\n",
       "      <th>4</th>\n",
       "      <td>1000005</td>\n",
       "      <td>M</td>\n",
       "      <td>University</td>\n",
       "      <td>750</td>\n",
       "      <td>480</td>\n",
       "      <td>A</td>\n",
       "    </tr>\n",
       "    <tr>\n",
       "      <th>169</th>\n",
       "      <td>1000183</td>\n",
       "      <td>M</td>\n",
       "      <td>University</td>\n",
       "      <td>460</td>\n",
       "      <td>400</td>\n",
       "      <td>B</td>\n",
       "    </tr>\n",
       "  </tbody>\n",
       "</table>\n",
       "</div>"
      ],
      "text/plain": [
       "<div>\n",
       "<style scoped>\n",
       "    .dataframe tbody tr th:only-of-type {\n",
       "        vertical-align: middle;\n",
       "    }\n",
       "\n",
       "    .dataframe tbody tr th {\n",
       "        vertical-align: top;\n",
       "    }\n",
       "\n",
       "    .dataframe thead th {\n",
       "        text-align: right;\n",
       "    }\n",
       "</style>\n",
       "<table border=\"1\" class=\"dataframe\">\n",
       "  <thead>\n",
       "    <tr style=\"text-align: right;\">\n",
       "      <th></th>\n",
       "      <th>Card_Cust_ID</th>\n",
       "      <th>Gender</th>\n",
       "      <th>Education_level</th>\n",
       "      <th>Last_Month_spend</th>\n",
       "      <th>Last_3m_avg_spend</th>\n",
       "      <th>Spend_Drop_over50pct</th>\n",
       "    </tr>\n",
       "  </thead>\n",
       "  <tbody>\n",
       "    <tr>\n",
       "      <th>34</th>\n",
       "      <td>1000037</td>\n",
       "      <td>M</td>\n",
       "      <td>Graduate</td>\n",
       "      <td>20</td>\n",
       "      <td>30</td>\n",
       "      <td>B</td>\n",
       "    </tr>\n",
       "    <tr>\n",
       "      <th>335</th>\n",
       "      <td>1000361</td>\n",
       "      <td>M</td>\n",
       "      <td>University</td>\n",
       "      <td>790</td>\n",
       "      <td>780</td>\n",
       "      <td>A</td>\n",
       "    </tr>\n",
       "    <tr>\n",
       "      <th>439</th>\n",
       "      <td>1011077</td>\n",
       "      <td>M</td>\n",
       "      <td>High School</td>\n",
       "      <td>1190</td>\n",
       "      <td>1190</td>\n",
       "      <td>A</td>\n",
       "    </tr>\n",
       "    <tr>\n",
       "      <th>4</th>\n",
       "      <td>1000005</td>\n",
       "      <td>M</td>\n",
       "      <td>University</td>\n",
       "      <td>750</td>\n",
       "      <td>480</td>\n",
       "      <td>A</td>\n",
       "    </tr>\n",
       "    <tr>\n",
       "      <th>169</th>\n",
       "      <td>1000183</td>\n",
       "      <td>M</td>\n",
       "      <td>University</td>\n",
       "      <td>460</td>\n",
       "      <td>400</td>\n",
       "      <td>B</td>\n",
       "    </tr>\n",
       "  </tbody>\n",
       "</table>\n",
       "</div>"
      ]
     },
     "execution_count": 9,
     "metadata": {},
     "output_type": "execute_result"
    }
   ],
   "source": [
    "# Split sample into Train and Test\n",
    "from sklearn.cross_validation import train_test_split\n",
    "Train,Test = train_test_split(binary, test_size = 0.3, random_state = 176)\n",
    "# Print a few rows\n",
    "Train.head()"
   ]
  },
  {
   "cell_type": "code",
   "execution_count": 26,
   "metadata": {},
   "outputs": [
    {
     "data": {
      "text/plain": [
       "array([[20, 30],\n       [790, 780],\n       [1190, 1190],\n       [750, 480],\n       [460, 400],\n       [20, 380],\n       [200, 70],\n       [190, 120],\n       [1090, 1080],\n       [100, 170],\n       [920, 930],\n       [620, 750],\n       [1140, 1140],\n       [150, 190],\n       [760, 610],\n       [750, 410],\n       [820, 830],\n       [80, 100],\n       [530, 490],\n       [990, 1020],\n       [860, 840],\n       [550, 520],\n       [280, 230],\n       [730, 750],\n       [630, 560],\n       [520, 470],\n       [920, 890],\n       [830, 800],\n       [430, 410],\n       [130, 160],\n       [660, 620],\n       [570, 330],\n       [280, 210],\n       [340, 190],\n       [860, 850],\n       [690, 650],\n       [700, 770],\n       [190, 90],\n       [920, 910],\n       [180, 120],\n       [90, 70],\n       [780, 790],\n       [1110, 1130],\n       [630, 600],\n       [830, 820],\n       [310, 230],\n       [50, 180],\n       [130, 50],\n       [1170, 1170],\n       [440, 380],\n       [800, 830],\n       [320, 590],\n       [580, 560],\n       [80, 10],\n       [110, 40],\n       [220, 350],\n       [190, 250],\n       [510, 450],\n       [980, 990],\n       [1090, 1090],\n       [250, 200],\n       [870, 870],\n       [730, 790],\n       [800, 620],\n       [970, 640],\n       [1170, 1180],\n       [920, 900],\n       [800, 780],\n       [550, 510],\n       [980, 940],\n       [890, 880],\n       [930, 910],\n       [500, 460],\n       [990, 1050],\n       [380, 420],\n       [210, 220],\n       [650, 600],\n       [900, 880],\n       [170, 90],\n       [150, 260],\n       [370, 300],\n       [810, 770],\n       [1080, 930],\n       [1120, 1150],\n       [360, 330],\n       [1160, 1150],\n       [1010, 1010],\n       [830, 830],\n       [270, 170],\n       [810, 790],\n       [570, 540],\n       [1160, 1140],\n       [740, 750],\n       [530, 500],\n       [570, 540],\n       [730, 740],\n       [260, 300],\n       [1170, 1170],\n       [830, 820],\n       [550, 610],\n       [810, 780],\n       [50, 160],\n       [1190, 1200],\n       [190, 110],\n       [600, 550],\n       [140, 50],\n       [470, 410],\n       [120, 90],\n       [540, 920],\n       [1070, 1060],\n       [1060, 1060],\n       [1100, 1080],\n       [1180, 1180],\n       [780, 880],\n       [840, 810],\n       [160, 50],\n       [280, 260],\n       [380, 710],\n       [460, 430],\n       [850, 990],\n       [540, 660],\n       [600, 440],\n       [1110, 1100],\n       [870, 850],\n       [70, 270],\n       [1040, 980],\n       [230, 340],\n       [480, 420],\n       [510, 600],\n       [880, 900],\n       [380, 390],\n       [1130, 1120],\n       [890, 860],\n       [170, 140],\n       [570, 770],\n       [890, 860],\n       [910, 900],\n       [520, 520],\n       [700, 680],\n       [340, 300],\n       [670, 510],\n       [140, 60],\n       [370, 320],\n       [1130, 1110],\n       [770, 760],\n       [400, 360],\n       [220, 220],\n       [150, 80],\n       [680, 670],\n       [1100, 1110],\n       [270, 190],\n       [770, 720],\n       [80, 80],\n       [360, 290],\n       [960, 940],\n       [140, 90],\n       [160, 160],\n       [430, 380],\n       [590, 560],\n       [600, 570],\n       [850, 830],\n       [490, 310],\n       [470, 530],\n       [1050, 1040],\n       [770, 1050],\n       [1080, 1070],\n       [330, 260],\n       [360, 320],\n       [1120, 1110],\n       [200, 150],\n       [230, 130],\n       [1010, 1000],\n       [1140, 1160],\n       [390, 360],\n       [1060, 1060],\n       [40, 450],\n       [500, 690],\n       [710, 640],\n       [120, 40],\n       [530, 510],\n       [300, 210],\n       [850, 700],\n       [620, 590],\n       [420, 360],\n       [290, 300],\n       [250, 100],\n       [40, 580],\n       [390, 430],\n       [1040, 1030],\n       [950, 930],\n       [710, 490],\n       [330, 200],\n       [170, 60],\n       [510, 460],\n       [640, 610],\n       [1100, 1090],\n       [1000, 1000],\n       [210, 110],\n       [410, 390],\n       [670, 640],\n       [300, 240],\n       [1000, 1130],\n       [410, 350],\n       [1030, 1010],\n       [760, 720],\n       [880, 920],\n       [930, 960],\n       [390, 380],\n       [490, 480],\n       [130, 60],\n       [30, 170],\n       [820, 850],\n       [480, 650],\n       [160, 150],\n       [1180, 1180],\n       [440, 380],\n       [740, 740],\n       [20, 540],\n       [1010, 1050],\n       [1010, 1050],\n       [560, 490],\n       [100, 20],\n       [60, 580],\n       [1180, 1170],\n       [90, 180],\n       [110, 70],\n       [1170, 1170],\n       [1020, 990],\n       [630, 860],\n       [330, 330],\n       [310, 230],\n       [350, 270],\n       [1070, 1120],\n       [330, 220],\n       [900, 900],\n       [340, 240],\n       [650, 600],\n       [550, 510],\n       [260, 490],\n       [860, 840],\n       [940, 950],\n       [490, 620],\n       [670, 690],\n       [100, 10],\n       [1110, 1090],\n       [870, 870],\n       [850, 850],\n       [780, 780],\n       [940, 960],\n       [850, 800],\n       [1130, 1130],\n       [440, 430],\n       [120, 150],\n       [70, 630],\n       [710, 700],\n       [1080, 1070],\n       [690, 680],\n       [560, 530],\n       [790, 780],\n       [20, 270],\n       [1050, 1030],\n       [720, 730],\n       [700, 700],\n       [220, 150],\n       [1130, 1130],\n       [910, 900],\n       [520, 500],\n       [310, 340],\n       [530, 490],\n       [280, 310],\n       [300, 300],\n       [1150, 1140],\n       [1150, 1180],\n       [1030, 990],\n       [930, 890],\n       [960, 960],\n       [40, 130],\n       [860, 840],\n       [50, 500],\n       [1130, 1120],\n       [230, 210],\n       [470, 470],\n       [450, 730],\n       [640, 380],\n       [1190, 1190],\n       [1180, 1190],\n       [760, 740],\n       [60, 20],\n       [690, 660],\n       [1100, 1100],\n       [230, 180],\n       [990, 990],\n       [400, 340],\n       [1050, 1030],\n       [720, 650],\n       [580, 520],\n       [820, 800],\n       [1040, 1030],\n       [20, 110],\n       [450, 400],\n       [1150, 1150],\n       [10, 280],\n       [600, 570],\n       [260, 210],\n       [960, 950],\n       [1170, 1150],\n       [560, 500],\n       [720, 680],\n       [450, 410],\n       [840, 820],\n       [460, 270],\n       [1050, 1040],\n       [90, 10],\n       [620, 330],\n       [760, 820],\n       [610, 570],\n       [970, 940],\n       [1070, 1070],\n       [350, 350],\n       [750, 740],\n       [820, 800],\n       [1160, 1160],\n       [380, 220],\n       [880, 860],\n       [290, 320],\n       [70, 20],\n       [90, 140],\n       [960, 950],\n       [590, 530],\n       [340, 280],\n       [590, 430],\n       [1070, 1070]], dtype=object)"
      ]
     },
     "execution_count": 26,
     "metadata": {},
     "output_type": "execute_result"
    }
   ],
   "source": [
    "# Keep Target and Independent Variable into different array\n",
    "Train_IndepentVars = Train.values[:, 3:5]\n",
    "Train_TargetVar = Train.values[:,5]\n",
    "#pd.DataFrame(Train_TargetVar).head()\n"
   ]
  },
  {
   "cell_type": "code",
   "execution_count": 46,
   "metadata": {},
   "outputs": [
    {
     "data": {
      "text/plain": [
       "DecisionTreeClassifier(class_weight=None, criterion='gini', max_depth=None,\n            max_features=None, max_leaf_nodes=None,\n            min_impurity_decrease=0.0, min_impurity_split=None,\n            min_samples_leaf=1, min_samples_split=2,\n            min_weight_fraction_leaf=0.0, presort=False, random_state=None,\n            splitter='best')"
      ]
     },
     "execution_count": 46,
     "metadata": {},
     "output_type": "execute_result"
    }
   ],
   "source": [
    "# Load library\n",
    "from sklearn import tree\n",
    "from sklearn.tree import DecisionTreeClassifier\n",
    "# Building Decision Tree - CART Algorithm (gini criteria)\n",
    "dt_train_gini = DecisionTreeClassifier()\n",
    "# Train\n",
    "dt_train_gini.fit(Train_IndepentVars, Train_TargetVar)"
   ]
  },
  {
   "cell_type": "code",
   "execution_count": 47,
   "metadata": {},
   "outputs": [
    {
     "data": {
      "text/plain": [
       "['lAST month', '3 months']"
      ]
     },
     "execution_count": 47,
     "metadata": {},
     "output_type": "execute_result"
    }
   ],
   "source": [
    "feature = ['lAST month','3 months']\n",
    "feature"
   ]
  },
  {
   "cell_type": "code",
   "execution_count": 48,
   "metadata": {},
   "outputs": [],
   "source": [
    "from IPython.display import Image  \n",
    "from sklearn.externals.six import StringIO  \n",
    "import graphviz\n",
    "#feature  = list(binary.colums)\n",
    "dot_data = tree.export_graphviz(dt_train_gini, out_file=None, \n",
    "                      feature_names=feature,  \n",
    "                      class_names='Hello/',  \n",
    "                      filled=True, rounded=True,  \n",
    "                      special_characters=True)  "
   ]
  },
  {
   "cell_type": "code",
   "execution_count": 49,
   "metadata": {},
   "outputs": [],
   "source": [
    "graph = graphviz.Source(dot_data)\n"
   ]
  },
  {
   "cell_type": "code",
   "execution_count": 50,
   "metadata": {},
   "outputs": [
    {
     "data": {
      "text/plain": [
       "'D:/ml\\\\xyzw.pdf'"
      ]
     },
     "execution_count": 50,
     "metadata": {},
     "output_type": "execute_result"
    }
   ],
   "source": [
    "graph.render(\"xyzw\",'D:/ml')"
   ]
  },
  {
   "cell_type": "code",
   "execution_count": null,
   "metadata": {},
   "outputs": [],
   "source": []
  }
 ],
 "metadata": {
  "kernelspec": {
   "display_name": "Python 2",
   "language": "python",
   "name": "python2"
  },
  "language_info": {
   "codemirror_mode": {
    "name": "ipython",
    "version": 2
   },
   "file_extension": ".py",
   "mimetype": "text/x-python",
   "name": "python",
   "nbconvert_exporter": "python",
   "pygments_lexer": "ipython2",
   "version": "2.7.6"
  }
 },
 "nbformat": 4,
 "nbformat_minor": 0
}
